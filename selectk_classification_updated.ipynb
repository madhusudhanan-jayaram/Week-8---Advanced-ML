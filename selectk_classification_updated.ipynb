{
 "cells": [
  {
   "cell_type": "code",
   "execution_count": 16,
   "id": "5abd73a0-f7fb-4fd2-b558-7942cbf0b8c2",
   "metadata": {},
   "outputs": [],
   "source": [
    "import pandas as pd\n",
    "from sklearn.model_selection import train_test_split \n",
    "import time\n",
    "import numpy as np\n",
    "from sklearn.preprocessing import StandardScaler\n",
    "from sklearn.feature_selection import SelectKBest\n",
    "from sklearn.feature_selection import chi2\n",
    "from sklearn.feature_selection import RFE\n",
    "from sklearn.linear_model import LogisticRegression\n",
    "import pickle\n",
    "import matplotlib.pyplot as plt\n",
    "from IPython.display import HTML\n",
    "from IPython.display import display, Markdown"
   ]
  },
  {
   "cell_type": "code",
   "execution_count": 17,
   "id": "2f1891cb-8855-40c7-8eca-59936dbcb868",
   "metadata": {},
   "outputs": [],
   "source": [
    "def selectkbest(indep_X, dep_Y, n):\n",
    "    # Step 1: Initialize SelectKBest with Chi-Square test\n",
    "    test = SelectKBest(score_func=chi2, k=n)\n",
    "    \n",
    "    # Step 2: Fit the selector to the features (X) and target (y)\n",
    "    fit1 = test.fit(indep_X, dep_Y)\n",
    "    \n",
    "    # Step 3: Transform the dataset to keep only the top 'n' features\n",
    "    selectk_features = fit1.transform(indep_X)\n",
    "    \n",
    "    # --- Print debug information ---\n",
    "    print(\"\\n=== SelectKBest Feature Selection ===\")\n",
    "    print(f\"Original feature shape: {indep_X.shape}\")      # (rows, total features before)\n",
    "    print(f\"Reduced feature shape: {selectk_features.shape}\")  # (rows, n features after)\n",
    "    \n",
    "    # Get selected feature names\n",
    "    selected_mask = test.get_support()\n",
    "    selected_columns = indep_X.columns[test.get_support()]\n",
    "    selected_scores = fit1.scores_[selected_mask]\n",
    "\n",
    "    # ----- Quick visualization -----\n",
    "    try:\n",
    "        plt.figure(figsize=(8, 5))\n",
    "        plt.barh(selected_columns, selected_scores)\n",
    "        plt.xlabel(\"Chi² Score\")\n",
    "        plt.ylabel(\"Feature\")\n",
    "        plt.title(f\"Top {n} Features Selected by Chi² Test\")\n",
    "        plt.gca().invert_yaxis()  # highest score at the top\n",
    "        plt.tight_layout()\n",
    "        plt.show()\n",
    "    except Exception as e:\n",
    "        # In case plotting is unavailable (e.g., headless env), don't break execution\n",
    "        print(f\"(Plot skipped: {e})\")\n",
    "    \n",
    "    # Step 4: Return the reduced features (NumPy array)\n",
    "    return selectk_features"
   ]
  },
  {
   "cell_type": "code",
   "execution_count": 18,
   "id": "8aecfd8f-9353-4663-b288-ee3e4b63178b",
   "metadata": {},
   "outputs": [],
   "source": [
    "def split_scalar(indep_X,dep_Y):\n",
    "        # Step 1: Split into training (75%) and testing (25%) sets\n",
    "        X_train, X_test, y_train, y_test = train_test_split(\n",
    "            indep_X, dep_Y, test_size=0.25, random_state=0\n",
    "        )\n",
    "    \n",
    "        # Step 2: Initialize the StandardScaler\n",
    "        sc = StandardScaler()\n",
    "    \n",
    "        # Step 3: Fit scaler on training data and transform it\n",
    "        X_train = sc.fit_transform(X_train)\n",
    "    \n",
    "        # Step 4: Transform test data using same scaler (to avoid data leakage)\n",
    "        X_test = sc.transform(X_test)\n",
    "    \n",
    "        # Step 5: Return scaled features and labels\n",
    "        return X_train, X_test, y_train, y_test\n",
    "    "
   ]
  },
  {
   "cell_type": "code",
   "execution_count": 19,
   "id": "40baedbb-c145-4aa6-8a46-5b70e679db1f",
   "metadata": {},
   "outputs": [],
   "source": [
    "def cm_prediction(classifier,X_test):\n",
    "     y_pred = classifier.predict(X_test)\n",
    "        \n",
    "        # Making the Confusion Matrix\n",
    "     from sklearn.metrics import confusion_matrix\n",
    "     cm = confusion_matrix(y_test, y_pred)\n",
    "        \n",
    "     from sklearn.metrics import accuracy_score \n",
    "     from sklearn.metrics import classification_report \n",
    "        #from sklearn.metrics import confusion_matrix\n",
    "        #cm = confusion_matrix(y_test, y_pred)\n",
    "        \n",
    "     Accuracy=accuracy_score(y_test, y_pred )\n",
    "        \n",
    "     report=classification_report(y_test, y_pred)\n",
    "     return  classifier,Accuracy,report,X_test,y_test,cm"
   ]
  },
  {
   "cell_type": "code",
   "execution_count": 20,
   "id": "25b10088-4ba0-47b7-ac39-5126b18d7c72",
   "metadata": {},
   "outputs": [],
   "source": [
    "def logistic(X_train,y_train,X_test):       \n",
    "        # Fitting K-NN to the Training set\n",
    "        from sklearn.linear_model import LogisticRegression\n",
    "        classifier = LogisticRegression(random_state = 0)\n",
    "        classifier.fit(X_train, y_train)\n",
    "        classifier,Accuracy,report,X_test,y_test,cm=cm_prediction(classifier,X_test)\n",
    "        return  classifier,Accuracy,report,X_test,y_test,cm    "
   ]
  },
  {
   "cell_type": "code",
   "execution_count": 21,
   "id": "3169e552-c7b6-46d7-8a2b-8f3cd349f63a",
   "metadata": {},
   "outputs": [],
   "source": [
    "def svm_linear(X_train,y_train,X_test):\n",
    "                \n",
    "        from sklearn.svm import SVC\n",
    "        classifier = SVC(kernel = 'linear', random_state = 0)\n",
    "        classifier.fit(X_train, y_train)\n",
    "        classifier,Accuracy,report,X_test,y_test,cm=cm_prediction(classifier,X_test)\n",
    "        return  classifier,Accuracy,report,X_test,y_test,cm"
   ]
  },
  {
   "cell_type": "code",
   "execution_count": 22,
   "id": "3e0fb4c7-f749-42fb-9071-d201fb7afa6e",
   "metadata": {},
   "outputs": [],
   "source": [
    "def svm_NL(X_train,y_train,X_test):\n",
    "                \n",
    "        from sklearn.svm import SVC\n",
    "        classifier = SVC(kernel = 'rbf', random_state = 0)\n",
    "        classifier.fit(X_train, y_train)\n",
    "        classifier,Accuracy,report,X_test,y_test,cm=cm_prediction(classifier,X_test)\n",
    "        return  classifier,Accuracy,report,X_test,y_test,cm"
   ]
  },
  {
   "cell_type": "code",
   "execution_count": 23,
   "id": "e3c301ed-b62f-44c6-96a9-f72e4290a725",
   "metadata": {},
   "outputs": [],
   "source": [
    "def Navie(X_train,y_train,X_test):       \n",
    "        # Fitting K-NN to the Training set\n",
    "        from sklearn.naive_bayes import GaussianNB\n",
    "        classifier = GaussianNB()\n",
    "        classifier.fit(X_train, y_train)\n",
    "        classifier,Accuracy,report,X_test,y_test,cm=cm_prediction(classifier,X_test)\n",
    "        return  classifier,Accuracy,report,X_test,y_test,cm         "
   ]
  },
  {
   "cell_type": "code",
   "execution_count": 24,
   "id": "c4d4cbc7-22e7-47c3-9688-31416238d5ac",
   "metadata": {},
   "outputs": [],
   "source": [
    "def knn(X_train,y_train,X_test):\n",
    "           \n",
    "        # Fitting K-NN to the Training set\n",
    "        from sklearn.neighbors import KNeighborsClassifier\n",
    "        classifier = KNeighborsClassifier(n_neighbors = 5, metric = 'minkowski', p = 2)\n",
    "        classifier.fit(X_train, y_train)\n",
    "        classifier,Accuracy,report,X_test,y_test,cm=cm_prediction(classifier,X_test)\n",
    "        return  classifier,Accuracy,report,X_test,y_test,cm"
   ]
  },
  {
   "cell_type": "code",
   "execution_count": 25,
   "id": "fe7f4b04-4f6d-4ac9-9206-da1d2773946b",
   "metadata": {},
   "outputs": [],
   "source": [
    "def Decision(X_train,y_train,X_test):\n",
    "        \n",
    "        # Fitting K-NN to the Training set\n",
    "        from sklearn.tree import DecisionTreeClassifier\n",
    "        classifier = DecisionTreeClassifier(criterion = 'entropy', random_state = 0)\n",
    "        classifier.fit(X_train, y_train)\n",
    "        classifier,Accuracy,report,X_test,y_test,cm=cm_prediction(classifier,X_test)\n",
    "        return  classifier,Accuracy,report,X_test,y_test,cm      "
   ]
  },
  {
   "cell_type": "code",
   "execution_count": 26,
   "id": "2a73109a-40ed-40c4-8f87-41b281f74896",
   "metadata": {},
   "outputs": [],
   "source": [
    "def random(X_train,y_train,X_test):\n",
    "        \n",
    "        # Fitting K-NN to the Training set\n",
    "        from sklearn.ensemble import RandomForestClassifier\n",
    "        classifier = RandomForestClassifier(n_estimators = 10, criterion = 'entropy', random_state = 0)\n",
    "        classifier.fit(X_train, y_train)\n",
    "        classifier,Accuracy,report,X_test,y_test,cm=cm_prediction(classifier,X_test)\n",
    "        return  classifier,Accuracy,report,X_test,y_test,cm"
   ]
  },
  {
   "cell_type": "code",
   "execution_count": 27,
   "id": "b9c59e36-8721-461d-9d62-39983797ec8c",
   "metadata": {},
   "outputs": [],
   "source": [
    "def selectk_Classification(acclog,accsvml,accsvmnl,accknn,accnav,accdes,accrf): \n",
    "    \n",
    "    dataframe=pd.DataFrame(index=['ChiSquare'],columns=['Logistic','SVMl','SVMnl','KNN','Navie','Decision','Random'])\n",
    "    for number,idex in enumerate(dataframe.index):      \n",
    "        dataframe['Logistic'][idex]=acclog[number]       \n",
    "        dataframe['SVMl'][idex]=accsvml[number]\n",
    "        dataframe['SVMnl'][idex]=accsvmnl[number]\n",
    "        dataframe['KNN'][idex]=accknn[number]\n",
    "        dataframe['Navie'][idex]=accnav[number]\n",
    "        dataframe['Decision'][idex]=accdes[number]\n",
    "        dataframe['Random'][idex]=accrf[number]\n",
    "    return dataframe"
   ]
  },
  {
   "cell_type": "code",
   "execution_count": 28,
   "id": "9ae5d220-122a-45ff-986a-51e13b2eaf0b",
   "metadata": {},
   "outputs": [],
   "source": [
    "def render_mermaid(diagram_code: str):\n",
    "    html = f\"\"\"\n",
    "    <div class=\"mermaid\">\n",
    "    {diagram_code}\n",
    "    </div>\n",
    "\n",
    "    <script>\n",
    "    // Load Mermaid only once\n",
    "    if (typeof mermaid === 'undefined') {{\n",
    "        var script = document.createElement(\"script\");\n",
    "        script.type = \"text/javascript\";\n",
    "        script.src = \"https://cdn.jsdelivr.net/npm/mermaid@10/dist/mermaid.min.js\";\n",
    "        script.onload = () => {{\n",
    "            mermaid.initialize({{ startOnLoad: true }});\n",
    "            mermaid.init(undefined, document.querySelectorAll(\".mermaid\"));\n",
    "        }};\n",
    "        document.head.appendChild(script);\n",
    "    }} else {{\n",
    "        mermaid.init(undefined, document.querySelectorAll(\".mermaid\"));\n",
    "    }}\n",
    "    </script>\n",
    "    \"\"\"\n",
    "    return HTML(html)"
   ]
  },
  {
   "cell_type": "code",
   "execution_count": 53,
   "id": "92444537-13cf-4f4f-9b15-89f2ae02f8e9",
   "metadata": {},
   "outputs": [],
   "source": [
    "def plot_result_table(table):\n",
    "    \"\"\"\n",
    "    Plot classifier accuracies from a result table with\n",
    "    classifiers on X-axis and accuracy on Y-axis.\n",
    "    \n",
    "    Parameters:\n",
    "        table (pd.DataFrame): DataFrame with feature selection methods as rows\n",
    "                              and classifiers as columns.\n",
    "    \"\"\"\n",
    "    # Take the first row (ChiSquare here)\n",
    "    method = table.index[0]\n",
    "    values = table.iloc[0].values\n",
    "    classifiers = table.columns.tolist()\n",
    "\n",
    "    plt.figure(figsize=(8,5))\n",
    "    bars = plt.bar(classifiers, values, color=\"skyblue\")\n",
    "\n",
    "    # Add values on top of bars\n",
    "    for bar, acc in zip(bars, values):\n",
    "        plt.text(bar.get_x() + bar.get_width()/2, bar.get_height() + 0.005,\n",
    "                 f\"{acc:.2f}\", ha='center', va='bottom', fontsize=10)\n",
    "\n",
    "    plt.ylabel(f\"Accuracy ({method})\", fontsize=12)\n",
    "    plt.xlabel(\"Classifiers\", fontsize=12)\n",
    "    plt.title(f\"Classifier Performance using {method} Feature Selection\", fontsize=14, fontweight=\"bold\")\n",
    "    plt.ylim(0.8, 1.0)  # focus on high accuracy range\n",
    "    plt.grid(axis='y', linestyle='--', alpha=0.7)\n",
    "    plt.show()"
   ]
  },
  {
   "cell_type": "code",
   "execution_count": 29,
   "id": "6ef2f970-eca4-453a-8497-f4d8a40fbccb",
   "metadata": {},
   "outputs": [],
   "source": [
    "def show_problem_and_algorithm():\n",
    "    text = \"\"\"\n",
    "# 📌 Problem Statement\n",
    "\n",
    "Chronic Kidney Disease (CKD) is a major health concern, and **early detection** is crucial for effective treatment.  \n",
    "\n",
    "Given a dataset (`prep.csv`) containing **medical test results and patient information** (e.g., age, blood pressure, sugar levels, red/white blood cell count, etc.), the objective is to classify patients into two categories:\n",
    "\n",
    "- ✅ **Yes** → Patient likely has CKD  \n",
    "- ❌ **No**  → Patient does not have CKD  \n",
    "\n",
    "The goal is to build a **machine learning classification model** that predicts CKD presence, compares different classifiers, and identifies the **best-performing algorithm** after applying feature selection (e.g., Chi-Square).  \n",
    "\n",
    "---\n",
    "\n",
    "# 📌 Algorithm\n",
    "\n",
    "### Step 1: Data Preprocessing  \n",
    "- Load dataset (`prep.csv`)  \n",
    "- Handle missing values  \n",
    "- Encode categorical variables  \n",
    "- Normalize/scale numerical features if required  \n",
    "\n",
    "### Step 2: Feature Selection  \n",
    "- Apply **Chi-Square feature selection** to identify relevant features  \n",
    "- Select top features for training  \n",
    "\n",
    "### Step 3: Train-Test Split  \n",
    "- Split dataset into **training (70%)** and **testing (30%)**  \n",
    "\n",
    "### Step 4: Train Multiple Classifiers  \n",
    "- Logistic Regression  \n",
    "- SVM (Linear)  \n",
    "- SVM (Non-Linear/RBF)  \n",
    "- KNN  \n",
    "- Naive Bayes  \n",
    "- Decision Tree  \n",
    "- Random Forest  \n",
    "\n",
    "For each classifier:  \n",
    "👉 Train → Predict → Evaluate (**Accuracy, Precision, Recall, F1-Score, Confusion Matrix**)  \n",
    "\n",
    "### Step 5: Collect Results  \n",
    "- Store accuracy scores of all classifiers  \n",
    "- Compare results using `selectk_Classification()`  \n",
    "\n",
    "### Step 6: Visualization  \n",
    "- Plot accuracies (**Classifiers vs Accuracy**)  \n",
    "- Highlight best-performing classifier  \n",
    "\n",
    "### Step 7: Conclusion  \n",
    "- Select **best classifier** for CKD prediction  \n",
    "\"\"\"\n",
    "    display(Markdown(text))"
   ]
  },
  {
   "cell_type": "code",
   "execution_count": 30,
   "id": "345a0dc1-1c42-42ec-98ba-89b140bda84b",
   "metadata": {},
   "outputs": [
    {
     "data": {
      "text/markdown": [
       "\n",
       "# 📌 Problem Statement\n",
       "\n",
       "Chronic Kidney Disease (CKD) is a major health concern, and **early detection** is crucial for effective treatment.  \n",
       "\n",
       "Given a dataset (`prep.csv`) containing **medical test results and patient information** (e.g., age, blood pressure, sugar levels, red/white blood cell count, etc.), the objective is to classify patients into two categories:\n",
       "\n",
       "- ✅ **Yes** → Patient likely has CKD  \n",
       "- ❌ **No**  → Patient does not have CKD  \n",
       "\n",
       "The goal is to build a **machine learning classification model** that predicts CKD presence, compares different classifiers, and identifies the **best-performing algorithm** after applying feature selection (e.g., Chi-Square).  \n",
       "\n",
       "---\n",
       "\n",
       "# 📌 Algorithm\n",
       "\n",
       "### Step 1: Data Preprocessing  \n",
       "- Load dataset (`prep.csv`)  \n",
       "- Handle missing values  \n",
       "- Encode categorical variables  \n",
       "- Normalize/scale numerical features if required  \n",
       "\n",
       "### Step 2: Feature Selection  \n",
       "- Apply **Chi-Square feature selection** to identify relevant features  \n",
       "- Select top features for training  \n",
       "\n",
       "### Step 3: Train-Test Split  \n",
       "- Split dataset into **training (70%)** and **testing (30%)**  \n",
       "\n",
       "### Step 4: Train Multiple Classifiers  \n",
       "- Logistic Regression  \n",
       "- SVM (Linear)  \n",
       "- SVM (Non-Linear/RBF)  \n",
       "- KNN  \n",
       "- Naive Bayes  \n",
       "- Decision Tree  \n",
       "- Random Forest  \n",
       "\n",
       "For each classifier:  \n",
       "👉 Train → Predict → Evaluate (**Accuracy, Precision, Recall, F1-Score, Confusion Matrix**)  \n",
       "\n",
       "### Step 5: Collect Results  \n",
       "- Store accuracy scores of all classifiers  \n",
       "- Compare results using `selectk_Classification()`  \n",
       "\n",
       "### Step 6: Visualization  \n",
       "- Plot accuracies (**Classifiers vs Accuracy**)  \n",
       "- Highlight best-performing classifier  \n",
       "\n",
       "### Step 7: Conclusion  \n",
       "- Select **best classifier** for CKD prediction  \n"
      ],
      "text/plain": [
       "<IPython.core.display.Markdown object>"
      ]
     },
     "metadata": {},
     "output_type": "display_data"
    }
   ],
   "source": [
    "show_problem_and_algorithm()"
   ]
  },
  {
   "cell_type": "code",
   "execution_count": 31,
   "id": "b405a843-20c8-4857-a2f0-6a9e787283ca",
   "metadata": {},
   "outputs": [],
   "source": [
    "dataset1=pd.read_csv(\"prep.csv\",index_col=None)"
   ]
  },
  {
   "cell_type": "code",
   "execution_count": 32,
   "id": "533ab150-5705-4c1e-a0d0-71bdbeb7db56",
   "metadata": {},
   "outputs": [],
   "source": [
    "df2=dataset1"
   ]
  },
  {
   "cell_type": "code",
   "execution_count": 33,
   "id": "e7455f84-f093-4bd9-acc7-94bd7bc22a9f",
   "metadata": {},
   "outputs": [
    {
     "name": "stdout",
     "output_type": "stream",
     "text": [
      "Before dummies: (399, 25)\n"
     ]
    }
   ],
   "source": [
    "print(\"Before dummies:\", df2.shape)"
   ]
  },
  {
   "cell_type": "code",
   "execution_count": 34,
   "id": "b1fd4351-105a-4721-ac21-1279446bf787",
   "metadata": {},
   "outputs": [],
   "source": [
    "df2 = pd.get_dummies(df2, drop_first=True)"
   ]
  },
  {
   "cell_type": "code",
   "execution_count": 35,
   "id": "8374023d-c63e-4d3f-847b-ee9e8a3e83d0",
   "metadata": {},
   "outputs": [
    {
     "name": "stdout",
     "output_type": "stream",
     "text": [
      "After dummies: (399, 28)\n",
      "New columns: ['pc_normal', 'pcc_present', 'ba_present', 'htn_yes', 'dm_yes', 'cad_yes', 'appet_yes', 'pe_yes', 'ane_yes', 'classification_yes']\n"
     ]
    }
   ],
   "source": [
    "print(\"After dummies:\", df2.shape)\n",
    "print(\"New columns:\", df2.columns.tolist()[-10:])  # show last 10 columns"
   ]
  },
  {
   "cell_type": "code",
   "execution_count": 36,
   "id": "8558f478-82ab-4c33-bcbe-90975eab4cc7",
   "metadata": {},
   "outputs": [],
   "source": [
    "indep_X = df2.drop('classification_yes', axis=1)\n",
    "dep_Y = df2['classification_yes']"
   ]
  },
  {
   "cell_type": "code",
   "execution_count": 37,
   "id": "ff3eb952-69d1-4593-a57b-0f5f4bd76201",
   "metadata": {},
   "outputs": [
    {
     "name": "stdout",
     "output_type": "stream",
     "text": [
      "Shape of full dataset: (399, 28)\n",
      "Shape of Features (indep_X): (399, 27)\n",
      "Shape of Target (dep_Y): (399,)\n",
      "\n",
      "Independent Variables (X):\n",
      "   age         bp   al   su         bgr         bu        sc         sod  \\\n",
      "0  2.0  76.459948  3.0  0.0  148.112676  57.482105  3.077356  137.528754   \n",
      "1  3.0  76.459948  2.0  0.0  148.112676  22.000000  0.700000  137.528754   \n",
      "2  4.0  76.459948  1.0  0.0   99.000000  23.000000  0.600000  138.000000   \n",
      "3  5.0  76.459948  1.0  0.0  148.112676  16.000000  0.700000  138.000000   \n",
      "4  5.0  50.000000  0.0  0.0  148.112676  25.000000  0.600000  137.528754   \n",
      "\n",
      "        pot       hrmo  ...  rbc_normal  pc_normal  pcc_present  ba_present  \\\n",
      "0  4.627244  12.518156  ...        True      False        False       False   \n",
      "1  4.627244  10.700000  ...        True       True        False       False   \n",
      "2  4.400000  12.000000  ...        True       True        False       False   \n",
      "3  3.200000   8.100000  ...        True       True        False       False   \n",
      "4  4.627244  11.800000  ...        True       True        False       False   \n",
      "\n",
      "   htn_yes  dm_yes  cad_yes  appet_yes  pe_yes  ane_yes  \n",
      "0    False   False    False       True    True    False  \n",
      "1    False   False    False       True   False    False  \n",
      "2    False   False    False       True   False    False  \n",
      "3    False   False    False       True   False     True  \n",
      "4    False   False    False       True   False    False  \n",
      "\n",
      "[5 rows x 27 columns]\n",
      "\n",
      "Dependent Variable (y):\n",
      "0    True\n",
      "1    True\n",
      "2    True\n",
      "3    True\n",
      "4    True\n",
      "Name: classification_yes, dtype: bool\n"
     ]
    }
   ],
   "source": [
    "# Print shapes\n",
    "print(\"Shape of full dataset:\", df2.shape)\n",
    "print(\"Shape of Features (indep_X):\", indep_X.shape)\n",
    "print(\"Shape of Target (dep_Y):\", dep_Y.shape)\n",
    "\n",
    "# Print first few rows of features\n",
    "print(\"\\nIndependent Variables (X):\")\n",
    "print(indep_X.head())\n",
    "\n",
    "# Print first few rows of target\n",
    "print(\"\\nDependent Variable (y):\")\n",
    "print(dep_Y.head())"
   ]
  },
  {
   "cell_type": "code",
   "execution_count": 38,
   "id": "adf2f99d-b5b4-4127-b342-aa13d0b98b69",
   "metadata": {},
   "outputs": [
    {
     "name": "stdout",
     "output_type": "stream",
     "text": [
      "\n",
      "=== SelectKBest Feature Selection ===\n",
      "Original feature shape: (399, 27)\n",
      "Reduced feature shape: (399, 5)\n"
     ]
    },
    {
     "data": {
      "image/png": "[encoded data removed]",
      "text/plain": [
       "<Figure size 800x500 with 1 Axes>"
      ]
     },
     "metadata": {},
     "output_type": "display_data"
    }
   ],
   "source": [
    "kbest=selectkbest(indep_X,dep_Y,5)       "
   ]
  },
  {
   "cell_type": "code",
   "execution_count": 39,
   "id": "7586339a-c72d-497a-92b9-ca739510a5c1",
   "metadata": {},
   "outputs": [],
   "source": [
    "# Initialize empty lists to store accuracy results for each classifier\n",
    "# (We will append model accuracies after training each model)\n",
    "\n",
    "acclog = []     # Logistic Regression accuracies\n",
    "accsvml = []    # Support Vector Machine (Linear kernel) accuracies\n",
    "accsvmnl = []   # Support Vector Machine (Non-linear, RBF kernel) accuracies\n",
    "accknn = []     # K-Nearest Neighbors accuracies\n",
    "accnav = []     # Naive Bayes accuracies\n",
    "accdes = []     # Decision Tree accuracies\n",
    "accrf = []      # Random Forest accuracies"
   ]
  },
  {
   "cell_type": "code",
   "execution_count": 40,
   "id": "70866998-0c41-4c06-b1fb-887a6e199545",
   "metadata": {},
   "outputs": [],
   "source": [
    "# Split the reduced feature set (kbest) and target (dep_Y) \n",
    "# into training and testing sets, and apply standard scaling \n",
    "# so that all features have mean=0 and std=1\n",
    "X_train, X_test, y_train, y_test=split_scalar(kbest,dep_Y)   "
   ]
  },
  {
   "cell_type": "code",
   "execution_count": 41,
   "id": "174778cf-964d-4e5d-833a-32ed37cc0894",
   "metadata": {},
   "outputs": [],
   "source": [
    "# Train Logistic Regression and get accuracy\n",
    "classifier, Accuracy, report, X_test, y_test, cm = logistic(X_train, y_train, X_test)\n",
    "# Save accuracy in list for later comparison\n",
    "acclog.append(Accuracy)"
   ]
  },
  {
   "cell_type": "code",
   "execution_count": 42,
   "id": "c9cd52d1-210b-4044-9aec-86efa85c3781",
   "metadata": {},
   "outputs": [],
   "source": [
    "# Train SVM with linear kernel and get accuracy\n",
    "classifier, Accuracy, report, X_test, y_test, cm = svm_linear(X_train, y_train, X_test)\n",
    "# Save accuracy in list for later comparison\n",
    "accsvml.append(Accuracy)"
   ]
  },
  {
   "cell_type": "code",
   "execution_count": 43,
   "id": "fe73f3ed-06cb-491a-8606-ba3bd30a60f4",
   "metadata": {},
   "outputs": [],
   "source": [
    "# Run Non-Linear SVM and get results\n",
    "classifier, Accuracy, report, X_test, y_test, cm = svm_NL(X_train, y_train, X_test)\n",
    "# Store accuracy in the list\n",
    "accsvmnl.append(Accuracy)"
   ]
  },
  {
   "cell_type": "code",
   "execution_count": 44,
   "id": "12e9d8cc-8fcb-4bf7-9079-de38203e6e28",
   "metadata": {},
   "outputs": [],
   "source": [
    "# Run KNN classifier and get results\n",
    "classifier, Accuracy, report, X_test, y_test, cm = knn(X_train, y_train, X_test)\n",
    "# Store accuracy in the list\n",
    "accknn.append(Accuracy)"
   ]
  },
  {
   "cell_type": "code",
   "execution_count": 45,
   "id": "a40f17e6-be07-4d13-9e96-f310dfea06ed",
   "metadata": {},
   "outputs": [],
   "source": [
    "# Run Naive Bayes classifier and get results\n",
    "classifier, Accuracy, report, X_test, y_test, cm = Navie(X_train, y_train, X_test)\n",
    "# Store accuracy in the list\n",
    "accnav.append(Accuracy)"
   ]
  },
  {
   "cell_type": "code",
   "execution_count": 46,
   "id": "d7e98d48-4a59-41ca-bdc8-362a30dfdc0d",
   "metadata": {},
   "outputs": [],
   "source": [
    "# Run Decision Tree classifier and get results\n",
    "classifier, Accuracy, report, X_test, y_test, cm = Decision(X_train, y_train, X_test)\n",
    "# Store accuracy in the list\n",
    "accdes.append(Accuracy)"
   ]
  },
  {
   "cell_type": "code",
   "execution_count": 47,
   "id": "9ffc13a8-5fb7-4a95-9dc2-08bf866417f7",
   "metadata": {},
   "outputs": [],
   "source": [
    "# Run Random Forest classifier and get results\n",
    "classifier, Accuracy, report, X_test, y_test, cm = random(X_train, y_train, X_test)\n",
    "# Store accuracy in the list\n",
    "accrf.append(Accuracy)"
   ]
  },
  {
   "cell_type": "code",
   "execution_count": 48,
   "id": "fc5de017-2199-4b64-ab4c-16e98c1a4575",
   "metadata": {},
   "outputs": [
    {
     "name": "stderr",
     "output_type": "stream",
     "text": [
      "C:\\Users\\mukil\\AppData\\Local\\Temp\\ipykernel_11336\\2634354880.py:5: FutureWarning: ChainedAssignmentError: behaviour will change in pandas 3.0!\n",
      "You are setting values through chained assignment. Currently this works in certain cases, but when using Copy-on-Write (which will become the default behaviour in pandas 3.0) this will never work to update the original DataFrame or Series, because the intermediate object on which we are setting values will behave as a copy.\n",
      "A typical example is when you are setting values in a column of a DataFrame, like:\n",
      "\n",
      "df[\"col\"][row_indexer] = value\n",
      "\n",
      "Use `df.loc[row_indexer, \"col\"] = values` instead, to perform the assignment in a single step and ensure this keeps updating the original `df`.\n",
      "\n",
      "See the caveats in the documentation: https://pandas.pydata.org/pandas-docs/stable/user_guide/indexing.html#returning-a-view-versus-a-copy\n",
      "\n",
      "  dataframe['Logistic'][idex]=acclog[number]\n",
      "C:\\Users\\mukil\\AppData\\Local\\Temp\\ipykernel_11336\\2634354880.py:6: FutureWarning: ChainedAssignmentError: behaviour will change in pandas 3.0!\n",
      "You are setting values through chained assignment. Currently this works in certain cases, but when using Copy-on-Write (which will become the default behaviour in pandas 3.0) this will never work to update the original DataFrame or Series, because the intermediate object on which we are setting values will behave as a copy.\n",
      "A typical example is when you are setting values in a column of a DataFrame, like:\n",
      "\n",
      "df[\"col\"][row_indexer] = value\n",
      "\n",
      "Use `df.loc[row_indexer, \"col\"] = values` instead, to perform the assignment in a single step and ensure this keeps updating the original `df`.\n",
      "\n",
      "See the caveats in the documentation: https://pandas.pydata.org/pandas-docs/stable/user_guide/indexing.html#returning-a-view-versus-a-copy\n",
      "\n",
      "  dataframe['SVMl'][idex]=accsvml[number]\n",
      "C:\\Users\\mukil\\AppData\\Local\\Temp\\ipykernel_11336\\2634354880.py:7: FutureWarning: ChainedAssignmentError: behaviour will change in pandas 3.0!\n",
      "You are setting values through chained assignment. Currently this works in certain cases, but when using Copy-on-Write (which will become the default behaviour in pandas 3.0) this will never work to update the original DataFrame or Series, because the intermediate object on which we are setting values will behave as a copy.\n",
      "A typical example is when you are setting values in a column of a DataFrame, like:\n",
      "\n",
      "df[\"col\"][row_indexer] = value\n",
      "\n",
      "Use `df.loc[row_indexer, \"col\"] = values` instead, to perform the assignment in a single step and ensure this keeps updating the original `df`.\n",
      "\n",
      "See the caveats in the documentation: https://pandas.pydata.org/pandas-docs/stable/user_guide/indexing.html#returning-a-view-versus-a-copy\n",
      "\n",
      "  dataframe['SVMnl'][idex]=accsvmnl[number]\n",
      "C:\\Users\\mukil\\AppData\\Local\\Temp\\ipykernel_11336\\2634354880.py:8: FutureWarning: ChainedAssignmentError: behaviour will change in pandas 3.0!\n",
      "You are setting values through chained assignment. Currently this works in certain cases, but when using Copy-on-Write (which will become the default behaviour in pandas 3.0) this will never work to update the original DataFrame or Series, because the intermediate object on which we are setting values will behave as a copy.\n",
      "A typical example is when you are setting values in a column of a DataFrame, like:\n",
      "\n",
      "df[\"col\"][row_indexer] = value\n",
      "\n",
      "Use `df.loc[row_indexer, \"col\"] = values` instead, to perform the assignment in a single step and ensure this keeps updating the original `df`.\n",
      "\n",
      "See the caveats in the documentation: https://pandas.pydata.org/pandas-docs/stable/user_guide/indexing.html#returning-a-view-versus-a-copy\n",
      "\n",
      "  dataframe['KNN'][idex]=accknn[number]\n",
      "C:\\Users\\mukil\\AppData\\Local\\Temp\\ipykernel_11336\\2634354880.py:9: FutureWarning: ChainedAssignmentError: behaviour will change in pandas 3.0!\n",
      "You are setting values through chained assignment. Currently this works in certain cases, but when using Copy-on-Write (which will become the default behaviour in pandas 3.0) this will never work to update the original DataFrame or Series, because the intermediate object on which we are setting values will behave as a copy.\n",
      "A typical example is when you are setting values in a column of a DataFrame, like:\n",
      "\n",
      "df[\"col\"][row_indexer] = value\n",
      "\n",
      "Use `df.loc[row_indexer, \"col\"] = values` instead, to perform the assignment in a single step and ensure this keeps updating the original `df`.\n",
      "\n",
      "See the caveats in the documentation: https://pandas.pydata.org/pandas-docs/stable/user_guide/indexing.html#returning-a-view-versus-a-copy\n",
      "\n",
      "  dataframe['Navie'][idex]=accnav[number]\n",
      "C:\\Users\\mukil\\AppData\\Local\\Temp\\ipykernel_11336\\2634354880.py:10: FutureWarning: ChainedAssignmentError: behaviour will change in pandas 3.0!\n",
      "You are setting values through chained assignment. Currently this works in certain cases, but when using Copy-on-Write (which will become the default behaviour in pandas 3.0) this will never work to update the original DataFrame or Series, because the intermediate object on which we are setting values will behave as a copy.\n",
      "A typical example is when you are setting values in a column of a DataFrame, like:\n",
      "\n",
      "df[\"col\"][row_indexer] = value\n",
      "\n",
      "Use `df.loc[row_indexer, \"col\"] = values` instead, to perform the assignment in a single step and ensure this keeps updating the original `df`.\n",
      "\n",
      "See the caveats in the documentation: https://pandas.pydata.org/pandas-docs/stable/user_guide/indexing.html#returning-a-view-versus-a-copy\n",
      "\n",
      "  dataframe['Decision'][idex]=accdes[number]\n",
      "C:\\Users\\mukil\\AppData\\Local\\Temp\\ipykernel_11336\\2634354880.py:11: FutureWarning: ChainedAssignmentError: behaviour will change in pandas 3.0!\n",
      "You are setting values through chained assignment. Currently this works in certain cases, but when using Copy-on-Write (which will become the default behaviour in pandas 3.0) this will never work to update the original DataFrame or Series, because the intermediate object on which we are setting values will behave as a copy.\n",
      "A typical example is when you are setting values in a column of a DataFrame, like:\n",
      "\n",
      "df[\"col\"][row_indexer] = value\n",
      "\n",
      "Use `df.loc[row_indexer, \"col\"] = values` instead, to perform the assignment in a single step and ensure this keeps updating the original `df`.\n",
      "\n",
      "See the caveats in the documentation: https://pandas.pydata.org/pandas-docs/stable/user_guide/indexing.html#returning-a-view-versus-a-copy\n",
      "\n",
      "  dataframe['Random'][idex]=accrf[number]\n"
     ]
    }
   ],
   "source": [
    "# Collect all classifier accuracies and select the best one\n",
    "result = selectk_Classification(acclog, accsvml, accsvmnl, accknn, accnav, accdes, accrf)"
   ]
  },
  {
   "cell_type": "code",
   "execution_count": 49,
   "id": "1fcbdafc-7bbe-4df1-8dfd-25a6eba86060",
   "metadata": {},
   "outputs": [
    {
     "data": {
      "text/html": [
       "<div>\n",
       "<style scoped>\n",
       "    .dataframe tbody tr th:only-of-type {\n",
       "        vertical-align: middle;\n",
       "    }\n",
       "\n",
       "    .dataframe tbody tr th {\n",
       "        vertical-align: top;\n",
       "    }\n",
       "\n",
       "    .dataframe thead th {\n",
       "        text-align: right;\n",
       "    }\n",
       "</style>\n",
       "<table border=\"1\" class=\"dataframe\">\n",
       "  <thead>\n",
       "    <tr style=\"text-align: right;\">\n",
       "      <th></th>\n",
       "      <th>Logistic</th>\n",
       "      <th>SVMl</th>\n",
       "      <th>SVMnl</th>\n",
       "      <th>KNN</th>\n",
       "      <th>Navie</th>\n",
       "      <th>Decision</th>\n",
       "      <th>Random</th>\n",
       "    </tr>\n",
       "  </thead>\n",
       "  <tbody>\n",
       "    <tr>\n",
       "      <th>ChiSquare</th>\n",
       "      <td>0.94</td>\n",
       "      <td>0.94</td>\n",
       "      <td>0.95</td>\n",
       "      <td>0.89</td>\n",
       "      <td>0.83</td>\n",
       "      <td>0.96</td>\n",
       "      <td>0.95</td>\n",
       "    </tr>\n",
       "  </tbody>\n",
       "</table>\n",
       "</div>"
      ],
      "text/plain": [
       "          Logistic  SVMl SVMnl   KNN Navie Decision Random\n",
       "ChiSquare     0.94  0.94  0.95  0.89  0.83     0.96   0.95"
      ]
     },
     "execution_count": 49,
     "metadata": {},
     "output_type": "execute_result"
    }
   ],
   "source": [
    "result"
   ]
  },
  {
   "cell_type": "code",
   "execution_count": 54,
   "id": "688fe01b-d301-4807-a9ac-7aa479c2174a",
   "metadata": {},
   "outputs": [
    {
     "data": {
      "image/png": "[encoded data removed]",
      "text/plain": [
       "<Figure size 800x500 with 1 Axes>"
      ]
     },
     "metadata": {},
     "output_type": "display_data"
    }
   ],
   "source": [
    "plot_result_table(pd.DataFrame(result, index=[\"ChiSquare\"]))"
   ]
  },
  {
   "cell_type": "code",
   "execution_count": 55,
   "id": "8765b3d9-faec-4bd8-a819-1468fbc5840b",
   "metadata": {},
   "outputs": [
    {
     "data": {
      "text/html": [
       "\n",
       "    <div class=\"mermaid\">\n",
       "    \n",
       "sequenceDiagram\n",
       "    participant U as User\n",
       "    participant D as Dataset (prep.csv) \n",
       "    participant FS as selectkbest (Chi-Square)\n",
       "    participant T as split_scalar\n",
       "    participant L as logistic(x,y -train & test sets)\n",
       "    participant O as random, naive, all others\n",
       "    participant P as plot_result_table\n",
       "    \n",
       "    U->>D: Load dataset\n",
       "    D->>FS: Apply Feature Selection (Chi-Square)\n",
       "    FS->>T: Train the model with 75%, 25%\n",
       "    T->>L: Train Logistic Regression\n",
       "    L->>O: Append Accuracy to respective python list\n",
       "    O->>P:  Print the result in table\n",
       "\n",
       "    </div>\n",
       "\n",
       "    <script>\n",
       "    // Load Mermaid only once\n",
       "    if (typeof mermaid === 'undefined') {\n",
       "        var script = document.createElement(\"script\");\n",
       "        script.type = \"text/javascript\";\n",
       "        script.src = \"https://cdn.jsdelivr.net/npm/mermaid@10/dist/mermaid.min.js\";\n",
       "        script.onload = () => {\n",
       "            mermaid.initialize({ startOnLoad: true });\n",
       "            mermaid.init(undefined, document.querySelectorAll(\".mermaid\"));\n",
       "        };\n",
       "        document.head.appendChild(script);\n",
       "    } else {\n",
       "        mermaid.init(undefined, document.querySelectorAll(\".mermaid\"));\n",
       "    }\n",
       "    </script>\n",
       "    "
      ],
      "text/plain": [
       "<IPython.core.display.HTML object>"
      ]
     },
     "execution_count": 55,
     "metadata": {},
     "output_type": "execute_result"
    }
   ],
   "source": [
    "diagram = \"\"\"\n",
    "sequenceDiagram\n",
    "    participant U as User\n",
    "    participant D as Dataset (prep.csv) \n",
    "    participant FS as selectkbest (Chi-Square)\n",
    "    participant T as split_scalar\n",
    "    participant L as logistic(x,y -train & test sets)\n",
    "    participant O as random, naive, all others\n",
    "    participant P as plot_result_table\n",
    "    \n",
    "    U->>D: Load dataset\n",
    "    D->>FS: Apply Feature Selection (Chi-Square)\n",
    "    FS->>T: Train the model with 75%, 25%\n",
    "    T->>L: Train Logistic Regression\n",
    "    L->>O: Append Accuracy to respective python list\n",
    "    O->>P:  Print the result in table\n",
    "\"\"\"\n",
    "render_mermaid(diagram)"
   ]
  },
  {
   "cell_type": "code",
   "execution_count": null,
   "id": "f08cde95-6a14-4a52-ac1d-fc55cf0ba33e",
   "metadata": {},
   "outputs": [],
   "source": []
  }
 ],
 "metadata": {
  "kernelspec": {
   "display_name": "Python 3 (ipykernel)",
   "language": "python",
   "name": "python3"
  },
  "language_info": {
   "codemirror_mode": {
    "name": "ipython",
    "version": 3
   },
   "file_extension": ".py",
   "mimetype": "text/x-python",
   "name": "python",
   "nbconvert_exporter": "python",
   "pygments_lexer": "ipython3",
   "version": "3.10.18"
  }
 },
 "nbformat": 4,
 "nbformat_minor": 5
}
